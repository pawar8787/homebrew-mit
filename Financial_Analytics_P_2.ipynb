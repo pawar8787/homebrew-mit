{
  "cells": [
    {
      "cell_type": "markdown",
      "metadata": {
        "id": "view-in-github",
        "colab_type": "text"
      },
      "source": [
        "<a href=\"https://colab.research.google.com/github/pawar8787/homebrew-mit/blob/master/Financial_Analytics_P_2.ipynb\" target=\"_parent\"><img src=\"https://colab.research.google.com/assets/colab-badge.svg\" alt=\"Open In Colab\"/></a>"
      ]
    },
    {
      "cell_type": "code",
      "execution_count": null,
      "id": "bbcccc7e",
      "metadata": {
        "id": "bbcccc7e"
      },
      "outputs": [],
      "source": [
        "#IMPORTING LIBRARIES\n",
        "import pandas as pd\n",
        "import numpy as np\n",
        "import seaborn as sns\n",
        "import matplotlib.pyplot as plt"
      ]
    },
    {
      "cell_type": "code",
      "execution_count": null,
      "id": "bc6f8ce6",
      "metadata": {
        "id": "bc6f8ce6",
        "outputId": "60c2a62a-67a5-4ed4-cda6-25e7e37708b5"
      },
      "outputs": [
        {
          "data": {
            "text/html": [
              "<div>\n",
              "<style scoped>\n",
              "    .dataframe tbody tr th:only-of-type {\n",
              "        vertical-align: middle;\n",
              "    }\n",
              "\n",
              "    .dataframe tbody tr th {\n",
              "        vertical-align: top;\n",
              "    }\n",
              "\n",
              "    .dataframe thead th {\n",
              "        text-align: right;\n",
              "    }\n",
              "</style>\n",
              "<table border=\"1\" class=\"dataframe\">\n",
              "  <thead>\n",
              "    <tr style=\"text-align: right;\">\n",
              "      <th></th>\n",
              "      <th>S.No.</th>\n",
              "      <th>Name</th>\n",
              "      <th>Mar Cap - Crore</th>\n",
              "      <th>Sales Qtr - Crore</th>\n",
              "      <th>Unnamed: 4</th>\n",
              "    </tr>\n",
              "  </thead>\n",
              "  <tbody>\n",
              "    <tr>\n",
              "      <th>0</th>\n",
              "      <td>1</td>\n",
              "      <td>Reliance Inds.</td>\n",
              "      <td>583436.72</td>\n",
              "      <td>99810.00</td>\n",
              "      <td>NaN</td>\n",
              "    </tr>\n",
              "    <tr>\n",
              "      <th>1</th>\n",
              "      <td>2</td>\n",
              "      <td>TCS</td>\n",
              "      <td>563709.84</td>\n",
              "      <td>30904.00</td>\n",
              "      <td>NaN</td>\n",
              "    </tr>\n",
              "    <tr>\n",
              "      <th>2</th>\n",
              "      <td>3</td>\n",
              "      <td>HDFC Bank</td>\n",
              "      <td>482953.59</td>\n",
              "      <td>20581.27</td>\n",
              "      <td>NaN</td>\n",
              "    </tr>\n",
              "    <tr>\n",
              "      <th>3</th>\n",
              "      <td>4</td>\n",
              "      <td>ITC</td>\n",
              "      <td>320985.27</td>\n",
              "      <td>9772.02</td>\n",
              "      <td>NaN</td>\n",
              "    </tr>\n",
              "    <tr>\n",
              "      <th>4</th>\n",
              "      <td>5</td>\n",
              "      <td>H D F C</td>\n",
              "      <td>289497.37</td>\n",
              "      <td>16840.51</td>\n",
              "      <td>NaN</td>\n",
              "    </tr>\n",
              "  </tbody>\n",
              "</table>\n",
              "</div>"
            ],
            "text/plain": [
              "   S.No.            Name  Mar Cap - Crore  Sales Qtr - Crore  Unnamed: 4\n",
              "0      1  Reliance Inds.        583436.72           99810.00         NaN\n",
              "1      2             TCS        563709.84           30904.00         NaN\n",
              "2      3       HDFC Bank        482953.59           20581.27         NaN\n",
              "3      4             ITC        320985.27            9772.02         NaN\n",
              "4      5         H D F C        289497.37           16840.51         NaN"
            ]
          },
          "execution_count": 2,
          "metadata": {},
          "output_type": "execute_result"
        }
      ],
      "source": [
        "#READING DATA\n",
        "data=pd.read_csv(\"Financial Analytics data.csv\")\n",
        "data.head()"
      ]
    },
    {
      "cell_type": "code",
      "execution_count": null,
      "id": "49b00956",
      "metadata": {
        "id": "49b00956",
        "outputId": "fa3c16fd-33b8-4f17-d709-c6b1cbdd8168"
      },
      "outputs": [
        {
          "name": "stdout",
          "output_type": "stream",
          "text": [
            "<class 'pandas.core.frame.DataFrame'>\n",
            "RangeIndex: 488 entries, 0 to 487\n",
            "Data columns (total 5 columns):\n",
            " #   Column             Non-Null Count  Dtype  \n",
            "---  ------             --------------  -----  \n",
            " 0   S.No.              488 non-null    int64  \n",
            " 1   Name               488 non-null    object \n",
            " 2   Mar Cap - Crore    479 non-null    float64\n",
            " 3   Sales Qtr - Crore  365 non-null    float64\n",
            " 4   Unnamed: 4         94 non-null     float64\n",
            "dtypes: float64(3), int64(1), object(1)\n",
            "memory usage: 19.2+ KB\n"
          ]
        }
      ],
      "source": [
        "#PRINTING INFORMATION OF THE DATAFRAME\n",
        "data.info()"
      ]
    },
    {
      "cell_type": "code",
      "execution_count": null,
      "id": "b7994d97",
      "metadata": {
        "id": "b7994d97",
        "outputId": "6171701d-e255-4b37-bb5f-569bbb253bfe"
      },
      "outputs": [
        {
          "data": {
            "text/html": [
              "<div>\n",
              "<style scoped>\n",
              "    .dataframe tbody tr th:only-of-type {\n",
              "        vertical-align: middle;\n",
              "    }\n",
              "\n",
              "    .dataframe tbody tr th {\n",
              "        vertical-align: top;\n",
              "    }\n",
              "\n",
              "    .dataframe thead th {\n",
              "        text-align: right;\n",
              "    }\n",
              "</style>\n",
              "<table border=\"1\" class=\"dataframe\">\n",
              "  <thead>\n",
              "    <tr style=\"text-align: right;\">\n",
              "      <th></th>\n",
              "      <th>S.No.</th>\n",
              "      <th>Mar Cap - Crore</th>\n",
              "      <th>Sales Qtr - Crore</th>\n",
              "      <th>Unnamed: 4</th>\n",
              "    </tr>\n",
              "  </thead>\n",
              "  <tbody>\n",
              "    <tr>\n",
              "      <th>count</th>\n",
              "      <td>488.000000</td>\n",
              "      <td>479.000000</td>\n",
              "      <td>365.000000</td>\n",
              "      <td>94.000000</td>\n",
              "    </tr>\n",
              "    <tr>\n",
              "      <th>mean</th>\n",
              "      <td>251.508197</td>\n",
              "      <td>28043.857119</td>\n",
              "      <td>4395.976849</td>\n",
              "      <td>1523.870106</td>\n",
              "    </tr>\n",
              "    <tr>\n",
              "      <th>std</th>\n",
              "      <td>145.884078</td>\n",
              "      <td>59464.615831</td>\n",
              "      <td>11092.206185</td>\n",
              "      <td>1800.008836</td>\n",
              "    </tr>\n",
              "    <tr>\n",
              "      <th>min</th>\n",
              "      <td>1.000000</td>\n",
              "      <td>3017.070000</td>\n",
              "      <td>47.240000</td>\n",
              "      <td>0.000000</td>\n",
              "    </tr>\n",
              "    <tr>\n",
              "      <th>25%</th>\n",
              "      <td>122.750000</td>\n",
              "      <td>4843.575000</td>\n",
              "      <td>593.740000</td>\n",
              "      <td>407.167500</td>\n",
              "    </tr>\n",
              "    <tr>\n",
              "      <th>50%</th>\n",
              "      <td>252.500000</td>\n",
              "      <td>9885.050000</td>\n",
              "      <td>1278.300000</td>\n",
              "      <td>702.325000</td>\n",
              "    </tr>\n",
              "    <tr>\n",
              "      <th>75%</th>\n",
              "      <td>378.250000</td>\n",
              "      <td>23549.900000</td>\n",
              "      <td>2840.750000</td>\n",
              "      <td>2234.815000</td>\n",
              "    </tr>\n",
              "    <tr>\n",
              "      <th>max</th>\n",
              "      <td>500.000000</td>\n",
              "      <td>583436.720000</td>\n",
              "      <td>110666.930000</td>\n",
              "      <td>7757.060000</td>\n",
              "    </tr>\n",
              "  </tbody>\n",
              "</table>\n",
              "</div>"
            ],
            "text/plain": [
              "            S.No.  Mar Cap - Crore  Sales Qtr - Crore   Unnamed: 4\n",
              "count  488.000000       479.000000         365.000000    94.000000\n",
              "mean   251.508197     28043.857119        4395.976849  1523.870106\n",
              "std    145.884078     59464.615831       11092.206185  1800.008836\n",
              "min      1.000000      3017.070000          47.240000     0.000000\n",
              "25%    122.750000      4843.575000         593.740000   407.167500\n",
              "50%    252.500000      9885.050000        1278.300000   702.325000\n",
              "75%    378.250000     23549.900000        2840.750000  2234.815000\n",
              "max    500.000000    583436.720000      110666.930000  7757.060000"
            ]
          },
          "execution_count": 4,
          "metadata": {},
          "output_type": "execute_result"
        }
      ],
      "source": [
        "#PRINTING THE DESCRIPTION OF DATA IN DATAFRAME\n",
        "data.describe()"
      ]
    },
    {
      "cell_type": "code",
      "execution_count": null,
      "id": "bc0c3ffa",
      "metadata": {
        "id": "bc0c3ffa",
        "outputId": "e8354b74-fc9d-4766-9717-d74e89132498"
      },
      "outputs": [
        {
          "data": {
            "text/plain": [
              "S.No.                  0\n",
              "Name                   0\n",
              "Mar Cap - Crore        9\n",
              "Sales Qtr - Crore    123\n",
              "Unnamed: 4           394\n",
              "dtype: int64"
            ]
          },
          "execution_count": 5,
          "metadata": {},
          "output_type": "execute_result"
        }
      ],
      "source": [
        "#CHECKING IF THERE ARE ANY NULL VALUES\n",
        "data.isnull().sum()"
      ]
    },
    {
      "cell_type": "code",
      "execution_count": null,
      "id": "6ea43f8e",
      "metadata": {
        "id": "6ea43f8e",
        "outputId": "51ca7039-e912-4556-d0a7-27ba615bcc70"
      },
      "outputs": [
        {
          "data": {
            "text/plain": [
              "Index(['S.No.', 'Name', 'Mar Cap - Crore', 'Sales Qtr - Crore', 'Unnamed: 4'], dtype='object')"
            ]
          },
          "execution_count": 6,
          "metadata": {},
          "output_type": "execute_result"
        }
      ],
      "source": [
        "#COLUMN NAMES\n",
        "data.columns"
      ]
    },
    {
      "cell_type": "code",
      "execution_count": null,
      "id": "5b2559a0",
      "metadata": {
        "id": "5b2559a0"
      },
      "outputs": [],
      "source": [
        "#RENAMING COLUMN NAMES\n",
        "data = data.rename(columns={'Name':'Company Name','Mar Cap - Crore': 'Market Capitalization', 'Sales Qtr - Crore': 'Quarterly Sales'})"
      ]
    },
    {
      "cell_type": "code",
      "execution_count": null,
      "id": "82478947",
      "metadata": {
        "id": "82478947",
        "outputId": "2d9a4b81-9fde-4c18-a2f1-8bc80d3f5605"
      },
      "outputs": [
        {
          "data": {
            "text/html": [
              "<div>\n",
              "<style scoped>\n",
              "    .dataframe tbody tr th:only-of-type {\n",
              "        vertical-align: middle;\n",
              "    }\n",
              "\n",
              "    .dataframe tbody tr th {\n",
              "        vertical-align: top;\n",
              "    }\n",
              "\n",
              "    .dataframe thead th {\n",
              "        text-align: right;\n",
              "    }\n",
              "</style>\n",
              "<table border=\"1\" class=\"dataframe\">\n",
              "  <thead>\n",
              "    <tr style=\"text-align: right;\">\n",
              "      <th></th>\n",
              "      <th>S.No.</th>\n",
              "      <th>Company Name</th>\n",
              "      <th>Market Capitalization</th>\n",
              "      <th>Quarterly Sales</th>\n",
              "    </tr>\n",
              "  </thead>\n",
              "  <tbody>\n",
              "    <tr>\n",
              "      <th>0</th>\n",
              "      <td>1</td>\n",
              "      <td>Reliance Inds.</td>\n",
              "      <td>583436.72</td>\n",
              "      <td>99810.00</td>\n",
              "    </tr>\n",
              "    <tr>\n",
              "      <th>1</th>\n",
              "      <td>2</td>\n",
              "      <td>TCS</td>\n",
              "      <td>563709.84</td>\n",
              "      <td>30904.00</td>\n",
              "    </tr>\n",
              "    <tr>\n",
              "      <th>2</th>\n",
              "      <td>3</td>\n",
              "      <td>HDFC Bank</td>\n",
              "      <td>482953.59</td>\n",
              "      <td>20581.27</td>\n",
              "    </tr>\n",
              "    <tr>\n",
              "      <th>3</th>\n",
              "      <td>4</td>\n",
              "      <td>ITC</td>\n",
              "      <td>320985.27</td>\n",
              "      <td>9772.02</td>\n",
              "    </tr>\n",
              "    <tr>\n",
              "      <th>4</th>\n",
              "      <td>5</td>\n",
              "      <td>H D F C</td>\n",
              "      <td>289497.37</td>\n",
              "      <td>16840.51</td>\n",
              "    </tr>\n",
              "  </tbody>\n",
              "</table>\n",
              "</div>"
            ],
            "text/plain": [
              "   S.No.    Company Name  Market Capitalization  Quarterly Sales\n",
              "0      1  Reliance Inds.              583436.72         99810.00\n",
              "1      2             TCS              563709.84         30904.00\n",
              "2      3       HDFC Bank              482953.59         20581.27\n",
              "3      4             ITC              320985.27          9772.02\n",
              "4      5         H D F C              289497.37         16840.51"
            ]
          },
          "execution_count": 8,
          "metadata": {},
          "output_type": "execute_result"
        }
      ],
      "source": [
        "#DELETING COLUMN WITH NULL VALUES \n",
        "del data['Unnamed: 4']\n",
        "data.head()"
      ]
    },
    {
      "cell_type": "code",
      "execution_count": null,
      "id": "ba39a1eb",
      "metadata": {
        "id": "ba39a1eb"
      },
      "outputs": [],
      "source": [
        "#DROPPING THE NULL VALUES\n",
        "data = data.dropna()"
      ]
    },
    {
      "cell_type": "code",
      "execution_count": null,
      "id": "13c41f8d",
      "metadata": {
        "id": "13c41f8d",
        "outputId": "e768abb6-0460-44f3-8323-688de6689726"
      },
      "outputs": [
        {
          "data": {
            "text/plain": [
              "S.No.                    0\n",
              "Company Name             0\n",
              "Market Capitalization    0\n",
              "Quarterly Sales          0\n",
              "dtype: int64"
            ]
          },
          "execution_count": 10,
          "metadata": {},
          "output_type": "execute_result"
        }
      ],
      "source": [
        "#CHECKING IF THERE ARE ANY NULL VALUES LEFT\n",
        "data.isnull().sum()"
      ]
    },
    {
      "cell_type": "code",
      "execution_count": null,
      "id": "f69b5c53",
      "metadata": {
        "id": "f69b5c53",
        "outputId": "efd568d1-0a41-4dac-d028-421656125524"
      },
      "outputs": [
        {
          "data": {
            "text/plain": [
              "S.No.                           1\n",
              "Company Name             3M India\n",
              "Market Capitalization     3017.07\n",
              "Quarterly Sales             47.24\n",
              "dtype: object"
            ]
          },
          "execution_count": 20,
          "metadata": {},
          "output_type": "execute_result"
        }
      ],
      "source": [
        "#MINIMUM VALUES\n",
        "data.min()"
      ]
    },
    {
      "cell_type": "code",
      "execution_count": null,
      "id": "f2bc4e82",
      "metadata": {
        "id": "f2bc4e82",
        "outputId": "73b9225c-ab53-444e-99d3-80b46ac31c37"
      },
      "outputs": [
        {
          "data": {
            "text/plain": [
              "S.No.                                499\n",
              "Company Name             eClerx Services\n",
              "Market Capitalization          583436.72\n",
              "Quarterly Sales                110666.93\n",
              "dtype: object"
            ]
          },
          "execution_count": 21,
          "metadata": {},
          "output_type": "execute_result"
        }
      ],
      "source": [
        "#MAXIMAM VALUES\n",
        "data.max()"
      ]
    },
    {
      "cell_type": "code",
      "execution_count": null,
      "id": "ed1df33c",
      "metadata": {
        "id": "ed1df33c",
        "outputId": "db14b655-0be5-4890-f41b-bde4d2b53262"
      },
      "outputs": [
        {
          "data": {
            "image/png": "[encoded data removed]",
            "text/plain": [
              "<Figure size 1440x360 with 1 Axes>"
            ]
          },
          "metadata": {},
          "output_type": "display_data"
        }
      ],
      "source": [
        "#BARPLOT \n",
        "st=sns.barplot(x='Company Name',y='Quarterly Sales',data=data,color='olive')\n",
        "st.set(xlabel='Company Name',ylabel='Quarterly Sales',title='Quarterly Sales chart')\n",
        "sns.set (rc = {'figure.figsize':(20, 5)})"
      ]
    },
    {
      "cell_type": "code",
      "execution_count": null,
      "id": "b1bd1ac3",
      "metadata": {
        "id": "b1bd1ac3",
        "outputId": "05338e07-99aa-4eed-b806-3b70e73e4b7c"
      },
      "outputs": [
        {
          "data": {
            "text/plain": [
              "<seaborn.axisgrid.PairGrid at 0x1d2ec4c5fa0>"
            ]
          },
          "execution_count": 33,
          "metadata": {},
          "output_type": "execute_result"
        },
        {
          "data": {
            "image/png": "[encoded data removed]",
            "text/plain": [
              "<Figure size 432x432 with 6 Axes>"
            ]
          },
          "metadata": {},
          "output_type": "display_data"
        }
      ],
      "source": [
        "#MULTIPLE GRAPHS\n",
        "x=data[['Quarterly Sales','Market Capitalization']]\n",
        "sns.pairplot(data = x, height = 3) "
      ]
    },
    {
      "cell_type": "code",
      "execution_count": null,
      "id": "6af02be0",
      "metadata": {
        "id": "6af02be0",
        "outputId": "1ae228e1-5b8e-4957-e076-2cc610dc5791"
      },
      "outputs": [
        {
          "data": {
            "image/png": "[encoded data removed]",
            "text/plain": [
              "<Figure size 1440x360 with 2 Axes>"
            ]
          },
          "metadata": {},
          "output_type": "display_data"
        }
      ],
      "source": [
        "#CORELATION GRAPH\n",
        "dataplot = sns.heatmap(data.corr(), annot=True,linewidths=.5)\n",
        "sns.set (rc = {'figure.figsize':(10, 10)})"
      ]
    },
    {
      "cell_type": "code",
      "execution_count": null,
      "id": "bf3e4a0e",
      "metadata": {
        "id": "bf3e4a0e"
      },
      "outputs": [],
      "source": [
        "#REGRESSION\n",
        "x = data[['Quarterly Sales']]\n",
        "y = data['Market Capitalization']"
      ]
    },
    {
      "cell_type": "code",
      "execution_count": null,
      "id": "5b316aa8",
      "metadata": {
        "id": "5b316aa8"
      },
      "outputs": [],
      "source": [
        "from sklearn import linear_model"
      ]
    },
    {
      "cell_type": "code",
      "execution_count": null,
      "id": "fc7ef08a",
      "metadata": {
        "id": "fc7ef08a",
        "outputId": "c6807489-cfae-4bd7-df37-0836a8b0798c"
      },
      "outputs": [
        {
          "data": {
            "text/plain": [
              "LinearRegression()"
            ]
          },
          "execution_count": 43,
          "metadata": {},
          "output_type": "execute_result"
        }
      ],
      "source": [
        "regr = linear_model.LinearRegression()\n",
        "regr.fit(x, y)"
      ]
    },
    {
      "cell_type": "code",
      "execution_count": null,
      "id": "30ab41f7",
      "metadata": {
        "id": "30ab41f7",
        "outputId": "b5db6312-5bcd-46e0-afb1-665991ab2a99"
      },
      "outputs": [
        {
          "data": {
            "image/png": "[encoded data removed]",
            "text/plain": [
              "<Figure size 720x720 with 1 Axes>"
            ]
          },
          "metadata": {},
          "output_type": "display_data"
        }
      ],
      "source": [
        "#LINEAR REGRESSION\n",
        "from scipy import stats\n",
        "\n",
        "x = data['Quarterly Sales']\n",
        "y = data['Market Capitalization']\n",
        "\n",
        "slope, intercept, r, p, std_err = stats.linregress(x, y)\n",
        "\n",
        "def myfunc(x):\n",
        "  return slope * x + intercept\n",
        "\n",
        "mymodel = list(map(myfunc, x))\n",
        "\n",
        "plt.scatter(x, y,color=\"green\")\n",
        "plt.plot(x, mymodel,color=\"red\")\n",
        "plt.show()"
      ]
    }
  ],
  "metadata": {
    "kernelspec": {
      "display_name": "Python 3 (ipykernel)",
      "language": "python",
      "name": "python3"
    },
    "language_info": {
      "codemirror_mode": {
        "name": "ipython",
        "version": 3
      },
      "file_extension": ".py",
      "mimetype": "text/x-python",
      "name": "python",
      "nbconvert_exporter": "python",
      "pygments_lexer": "ipython3",
      "version": "3.9.12"
    },
    "colab": {
      "provenance": [],
      "include_colab_link": true
    }
  },
  "nbformat": 4,
  "nbformat_minor": 5
}